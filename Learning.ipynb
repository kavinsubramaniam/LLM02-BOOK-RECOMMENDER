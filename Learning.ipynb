{
 "cells": [
  {
   "cell_type": "markdown",
   "id": "9ed92327-48d5-466e-abb0-156e02ec6367",
   "metadata": {},
   "source": [
    "## GPU setup and testing "
   ]
  },
  {
   "cell_type": "code",
   "execution_count": 4,
   "id": "0d919231-a33a-4ad9-9cc8-782485739e09",
   "metadata": {
    "scrolled": true
   },
   "outputs": [],
   "source": [
    "# !pip3 install torch torchvision torchaudio --index-url https://download.pytorch.org/whl/cu124"
   ]
  },
  {
   "cell_type": "code",
   "execution_count": 5,
   "id": "5f7b8f90-4777-42b7-b4c6-1014a474544e",
   "metadata": {},
   "outputs": [],
   "source": [
    "# import torch\n",
    "# if torch.cuda.is_available():\n",
    "#     print(\"GPU is available!\") \n",
    "# else:\n",
    "#     print(\"No GPU detected\") "
   ]
  },
  {
   "cell_type": "markdown",
   "id": "b6d6a583-9ec2-40db-862e-6bc8f6d629ab",
   "metadata": {},
   "source": [
    "## Ollama setup and testing"
   ]
  },
  {
   "cell_type": "code",
   "execution_count": 1,
   "id": "8d7f3001-28ca-433e-b772-15cdf339df25",
   "metadata": {},
   "outputs": [],
   "source": [
    "# !pip install ollama"
   ]
  },
  {
   "cell_type": "code",
   "execution_count": 2,
   "id": "beffa985-a48d-440f-82b6-6e4734704e55",
   "metadata": {},
   "outputs": [],
   "source": [
    "# import ollama\n",
    "\n",
    "# response = ollama.chat(model=\"llama3.1\", messages=[{\"role\": \"user\", \"content\": \"Hello, how are you?\"}])\n",
    "# print(response[\"message\"])"
   ]
  },
  {
   "cell_type": "code",
   "execution_count": 3,
   "id": "d6861223-9b99-49db-a4bf-7b1531c2bcc5",
   "metadata": {},
   "outputs": [],
   "source": [
    "# response = ollama.chat(model=\"llama3.1\", messages=[{\"role\": \"user\", \"content\": \"what question i asked previously?\"}])\n",
    "# print(response[\"message\"])"
   ]
  },
  {
   "cell_type": "markdown",
   "id": "16279eed-5435-4472-9f50-5f2dd0262413",
   "metadata": {},
   "source": [
    "## Advanced rag concepts and theories"
   ]
  },
  {
   "cell_type": "markdown",
   "id": "bfab8659-e8e4-4021-a9dc-75f750acbe6f",
   "metadata": {},
   "source": [
    "- Re-ranking\n",
    "- Context Based Chunking\n",
    "- Adding more matadata and filtering the metadata best doing the semantic search\n",
    "- Adding relevent hypothetical questions to the metadata and doing semantic search on those questions instead of the actual content\n",
    "- self quering retrival\n",
    "- BM25(Best Match 25)\n",
    "- Inverted Document Frequency(IDF)\n",
    "  \n",
    "#### Sam Witteveen youtuber \n",
    "- Parent document retrivel\n",
    "- Hybrid search"
   ]
  },
  {
   "cell_type": "code",
   "execution_count": null,
   "id": "55d7cf8a-b794-4e90-b659-d47e304845e2",
   "metadata": {},
   "outputs": [],
   "source": []
  }
 ],
 "metadata": {
  "kernelspec": {
   "display_name": "Python 3 (ipykernel)",
   "language": "python",
   "name": "python3"
  },
  "language_info": {
   "codemirror_mode": {
    "name": "ipython",
    "version": 3
   },
   "file_extension": ".py",
   "mimetype": "text/x-python",
   "name": "python",
   "nbconvert_exporter": "python",
   "pygments_lexer": "ipython3",
   "version": "3.12.8"
  }
 },
 "nbformat": 4,
 "nbformat_minor": 5
}
