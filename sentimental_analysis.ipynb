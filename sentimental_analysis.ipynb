{
 "cells": [
  {
   "cell_type": "code",
   "execution_count": 1,
   "id": "4379190d-a11d-436a-bb82-b9226f632e85",
   "metadata": {},
   "outputs": [],
   "source": [
    "import pandas as pd\n",
    "import numpy as np\n",
    "books = pd.read_csv(\"./books_with_categories.csv\")"
   ]
  },
  {
   "cell_type": "code",
   "execution_count": 6,
   "id": "3ea454d0-c044-4e1b-9d9f-3a96be8ed946",
   "metadata": {},
   "outputs": [
    {
     "name": "stderr",
     "output_type": "stream",
     "text": [
      "Device set to use cuda\n"
     ]
    }
   ],
   "source": [
    "from transformers import pipeline\n",
    "sentimental_analysis = pipeline(\"text-classification\", model=\"j-hartmann/emotion-english-distilroberta-base\", device=\"cuda\", top_k=None)"
   ]
  },
  {
   "cell_type": "code",
   "execution_count": 7,
   "id": "a2f0e879-b9bc-4114-8081-3dc205d5daba",
   "metadata": {},
   "outputs": [
    {
     "data": {
      "text/plain": [
       "[[{'label': 'joy', 'score': 0.9639525413513184},\n",
       "  {'label': 'sadness', 'score': 0.027516931295394897},\n",
       "  {'label': 'surprise', 'score': 0.0035664099268615246},\n",
       "  {'label': 'anger', 'score': 0.0025094274897128344},\n",
       "  {'label': 'neutral', 'score': 0.0012242378434166312},\n",
       "  {'label': 'fear', 'score': 0.0008826187695376575},\n",
       "  {'label': 'disgust', 'score': 0.0003477412974461913}]]"
      ]
     },
     "execution_count": 7,
     "metadata": {},
     "output_type": "execute_result"
    }
   ],
   "source": [
    "sentimental_analysis(\"i love you\")"
   ]
  },
  {
   "cell_type": "code",
   "execution_count": 12,
   "id": "e3ee0216-82ff-4360-9d56-83a556c918f8",
   "metadata": {},
   "outputs": [],
   "source": [
    "emotion_label = ['joy', 'sadness', 'surprise', 'anger', 'neutral', 'fear', 'disgust']\n",
    "isbn = []\n",
    "emotion_score = {label: [] for label in emotion_label}\n",
    "\n",
    "def calculate_max_emotion_scores(predictions):\n",
    "    per_emotion_scores = {label: [] for label in emotion_label}\n",
    "    for prediction in predictions:\n",
    "        sorted_prediction = sorted(prediction, key=lambda x: x[\"label\"])\n",
    "        for index, label in enumerate(emotion_label):\n",
    "            per_emotion_scores[label].append(sorted_prediction[index][\"score\"])\n",
    "    return {label: np.max(scores) for label, scores in per_emotion_scores.items()}"
   ]
  },
  {
   "cell_type": "code",
   "execution_count": 15,
   "id": "e6924fe4-ec4f-4612-9753-f231ee4f8e15",
   "metadata": {},
   "outputs": [
    {
     "name": "stderr",
     "output_type": "stream",
     "text": [
      "You seem to be using the pipelines sequentially on GPU. In order to maximize efficiency please use a dataset\n",
      "\n",
      "00%|██████████████████████████████████████████████████████████████████████████████| 5197/5197 [05:23<00:00, 16.05it/s]"
     ]
    }
   ],
   "source": [
    "from tqdm import tqdm\n",
    "\n",
    "emotion_label = ['joy', 'sadness', 'surprise', 'anger', 'neutral', 'fear', 'disgust']\n",
    "isbn = []\n",
    "emotion_score = {label: [] for label in emotion_label}\n",
    "\n",
    "for i in tqdm(range(len(books))):\n",
    "    isbn.append(books[\"isbn13\"][i])\n",
    "    sentences = books[\"description\"][i].split('.')\n",
    "    predictions = sentimental_analysis(sentences)\n",
    "    max_score = calculate_max_emotion_scores(predictions)\n",
    "    for label in emotion_label:\n",
    "        emotion_score[label].append(max_score[label])\n"
   ]
  },
  {
   "cell_type": "code",
   "execution_count": 16,
   "id": "46aac173-646a-4c16-afb6-b205bdcab4b5",
   "metadata": {},
   "outputs": [],
   "source": [
    "emotion_df = pd.DataFrame(emotion_score)\n",
    "emotion_df[\"isbn13\"] = isbn"
   ]
  },
  {
   "cell_type": "code",
   "execution_count": 18,
   "id": "240c3085-9ed4-441d-80ae-bb460ada768c",
   "metadata": {},
   "outputs": [],
   "source": [
    "books =  pd.merge(books, emotion_df, on=\"isbn13\")"
   ]
  },
  {
   "cell_type": "code",
   "execution_count": 19,
   "id": "c9625ae4-47a3-4adf-91e8-d6d42c71bb42",
   "metadata": {},
   "outputs": [],
   "source": [
    "books.to_csv(\"books_with_emotions.csv\", index=False)"
   ]
  },
  {
   "cell_type": "code",
   "execution_count": 22,
   "id": "01ed2d89-9afc-4f64-8bed-cb04b4a4626a",
   "metadata": {},
   "outputs": [
    {
     "data": {
      "text/plain": [
       "0       http://books.google.com/books/content?id=KQZCP...\n",
       "1       http://books.google.com/books/content?id=gA5GP...\n",
       "2       http://books.google.com/books/content?id=FKo2T...\n",
       "3       http://books.google.com/books/content?id=XhQ5X...\n",
       "4       http://books.google.com/books/content?id=Kk-uV...\n",
       "                              ...                        \n",
       "5192    http://books.google.com/books/content?id=q-tKP...\n",
       "5193    http://books.google.com/books/content?id=rq6JP...\n",
       "5194    http://books.google.com/books/content?id=c_7mf...\n",
       "5195    http://books.google.com/books/content?id=Fv_JP...\n",
       "5196    http://books.google.com/books/content?id=Vy7Sk...\n",
       "Name: thumbnail, Length: 5197, dtype: object"
      ]
     },
     "execution_count": 22,
     "metadata": {},
     "output_type": "execute_result"
    }
   ],
   "source": [
    "books.thumbnail"
   ]
  },
  {
   "cell_type": "code",
   "execution_count": 7,
   "id": "9c69d03d-9974-4e28-a177-9b8700d4bde1",
   "metadata": {},
   "outputs": [],
   "source": [
    "droped_auther = books[~(books.authors.isna())]"
   ]
  },
  {
   "cell_type": "code",
   "execution_count": 11,
   "id": "c71bfd76-74e7-4205-83f4-3a81be04301b",
   "metadata": {},
   "outputs": [],
   "source": [
    "droped_auther.to_csv(\"books_with_emotions.csv\", index=\"False\")"
   ]
  }
 ],
 "metadata": {
  "kernelspec": {
   "display_name": "Python 3 (ipykernel)",
   "language": "python",
   "name": "python3"
  },
  "language_info": {
   "codemirror_mode": {
    "name": "ipython",
    "version": 3
   },
   "file_extension": ".py",
   "mimetype": "text/x-python",
   "name": "python",
   "nbconvert_exporter": "python",
   "pygments_lexer": "ipython3",
   "version": "3.12.8"
  }
 },
 "nbformat": 4,
 "nbformat_minor": 5
}
